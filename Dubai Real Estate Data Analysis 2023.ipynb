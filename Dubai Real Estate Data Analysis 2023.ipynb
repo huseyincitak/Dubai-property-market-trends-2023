{
 "cells": [
  {
   "cell_type": "code",
   "execution_count": null,
   "metadata": {},
   "outputs": [],
   "source": [
    "import pandas as pd\n",
    "import numpy as np\n",
    "import matplotlib.pyplot as plt\n",
    "from matplotlib.pyplot import figure\n",
    "\n",
    "\n",
    "# The data can be found in this address https://www.dubaipulse.gov.ae/data/dld-transactions/dld_transactions-open-api\n",
    "df = pd.read_csv('Transactions.csv')\n",
    "\n",
    "#Format date column\n",
    "df.instance_date = pd.to_datetime(df.instance_date)\n",
    "df.instance_date = pd.to_datetime(df.instance_date.dt.strftime('%Y-%m-%d'))\n",
    "\n",
    "df = df.sort_values(by='instance_date', ascending=False)\n",
    "\n",
    "#Remove the columns that aren't necessary for the analysis\n",
    "df = df.drop(['transaction_id', 'procedure_id', 'trans_group_id', 'trans_group_ar',\n",
    "        'procedure_name_ar', \n",
    "       'property_type_id', 'property_type_ar',\n",
    "       'property_sub_type_id', 'property_sub_type_ar',\n",
    "       'property_usage_ar', \n",
    "       'reg_type_id', 'reg_type_ar',  'area_id', 'area_name_ar',\n",
    "       'building_name_ar', 'trans_group_en',\n",
    "       'project_number', 'project_name_ar', \n",
    "       'master_project_ar', 'nearest_landmark_ar',\n",
    "       'nearest_metro_ar',\n",
    "       'nearest_mall_ar', 'nearest_mall_en', 'rooms_ar', \n",
    "       'rent_value', 'meter_rent_price', 'no_of_parties_role_1',\n",
    "       'no_of_parties_role_2', 'no_of_parties_role_3'], axis=1, inplace=False)"
   ]
  },
  {
   "cell_type": "code",
   "execution_count": null,
   "metadata": {},
   "outputs": [],
   "source": [
    "pd.set_option('display.max_columns', None)\n",
    "df.head()"
   ]
  },
  {
   "cell_type": "code",
   "execution_count": null,
   "metadata": {},
   "outputs": [],
   "source": [
    "# Get rid of mortgage registrations and other non-relevant procedure types\n",
    "df = df[(df.procedure_name_en=='Sell') | \n",
    "       (df.procedure_name_en=='Sell - Pre registration') | \n",
    "       (df.procedure_name_en=='Delayed Sell') | \n",
    "       (df.procedure_name_en=='Lease to Own Registration')]\n",
    "\n",
    "#Remove Building and Land\n",
    "df = df[(df.property_type_en =='Unit') |\n",
    "        (df.property_type_en =='Villa')]\n",
    "\n",
    "#Remove non-residential properties\n",
    "df = df[df.property_usage_en == 'Residential']\n",
    "\n",
    "#Remove white space in the below columns\n",
    "df['area_name_en'] = df['area_name_en'].str.strip()\n",
    "df['building_name_en'] = df['building_name_en'].str.strip()\n",
    "df['project_name_en'] = df['project_name_en'].str.strip()\n",
    "df['nearest_landmark_en'] = df['nearest_landmark_en'].str.strip()\n",
    "df['nearest_metro_en'] = df['nearest_metro_en'].str.strip()\n",
    "\n",
    "#Convert sqm to sqft\n",
    "df.procedure_area = df.procedure_area*10.7639"
   ]
  },
  {
   "cell_type": "code",
   "execution_count": null,
   "metadata": {},
   "outputs": [],
   "source": [
    "# Seperate DFs for units and villas and remove extreme floor areas\n",
    "dfu = df[df.property_type_en=='Unit']\n",
    "dfv = df[df.property_type_en=='Villa']\n",
    "\n",
    "dfu = dfu[dfu.procedure_area<50000]\n",
    "dfv = dfv[dfv.procedure_area<100000]\n",
    "\n",
    "dfu = dfu[dfu.actual_worth>100000]\n",
    "dfv = dfv[dfv.actual_worth>300000]\n",
    "\n",
    "df = pd.concat([dfu,dfv], axis=0)\n",
    "df = df[df.procedure_area > 370]\n",
    "\n",
    "# After a quick check on the most expensive villas on bayut.com remove records with area larger than 100.000 sqft \n",
    "df = df[df.procedure_area<9290.304]\n",
    "\n",
    "# Remove nans \n",
    "df.dropna(subset=['actual_worth','meter_sale_price' ], how='any', inplace=True)\n",
    "\n",
    "# Remove below 100k properties\n",
    "df = df[df.actual_worth>100000]\n",
    "\n",
    "# A subset of 2023 data\n",
    "df_2023 = df[df.instance_date > '2023-01-01']\n",
    "\n",
    "# Remove non-residentials\n",
    "df = df[df.property_usage_en == 'Residential']"
   ]
  },
  {
   "cell_type": "code",
   "execution_count": null,
   "metadata": {},
   "outputs": [],
   "source": [
    "# A subset of the most expensive projects\n",
    "pricey = df_2023.groupby(by='project_name_en').mean().sort_values(by='meter_sale_price', ascending=False).head(15)\n",
    "\n",
    "# Another subset to look at the volume of sales\n",
    "pricey_sold = pd.DataFrame(columns = ['project_name_en', 'unit sold'])\n",
    "\n",
    "# Calculate the total number sold \n",
    "for i in pricey.index:\n",
    "    pricey_sold.loc[len(pricey_sold)] = [i,sum(df_2023.project_name_en==i)]\n",
    "\n",
    "# Remove the project that sold less than 3    \n",
    "for proj in pricey_sold.project_name_en:\n",
    "    if int(pricey_sold[pricey_sold.project_name_en==proj]['unit sold'])<3:\n",
    "        pricey = pricey[pricey.index != proj]\n",
    "# Keep the projects sold 3 and more        \n",
    "pricey_sold = pricey_sold[pricey_sold['unit sold']>=3]"
   ]
  },
  {
   "cell_type": "code",
   "execution_count": null,
   "metadata": {},
   "outputs": [],
   "source": [
    "\"\"\"  \n",
    "date_formatted = []\n",
    "for i in range(len(date)):\n",
    "    date_formatted.append(date[i].strftime('%Y-%m-%d %H:%M:%S'))\n",
    "  \n",
    "date_formatted_villa = []\n",
    "for i in range(len(a_villa)):\n",
    "    date_formatted.append(a_villa[i].strftime('%Y-%m-%d %H:%M:%S'))\n",
    "    \n",
    "date_formatted_unit = []\n",
    "for i in range(len(a_unit)):\n",
    "    date_formatted.append(a_unit[i].strftime('%Y-%m-%d %H:%M:%S'))    \n",
    "\"\"\""
   ]
  },
  {
   "cell_type": "code",
   "execution_count": null,
   "metadata": {},
   "outputs": [],
   "source": [
    "# Save various data to use in other visualization tools\n",
    "\"\"\"\n",
    "pricey.to_csv('highest_price_per_sqft.csv')\n",
    "pricey_sold.to_csv('popularity_of_pricey.csv')\n",
    "most_sold_proj.to_csv('most_sold_projects.csv')\n",
    "most_sold_area.to_csv('hottest_areas.csv')\n",
    "np.savetxt(\"downtown_prices_y.csv\", y_.values, delimiter=\",\")\n",
    "np.savetxt(\"downtown_prices_x.csv\", x_.values, delimiter=\",\")\n",
    "np.savetxt(\"downtown_date.csv\", np.asarray(date_formatted), delimiter=\",\", fmt='%s')\n",
    "np.savetxt(\"downtown_sales.csv\", np.asarray(sales), delimiter=\",\")\n",
    "b_unit.to_csv('unit_price_per_sqft.csv')\n",
    "b_villa.to_csv('villa_price_per_sqft.csv')\n",
    "\"\"\""
   ]
  },
  {
   "cell_type": "code",
   "execution_count": null,
   "metadata": {},
   "outputs": [],
   "source": [
    "figure(figsize=(20, 20), dpi=80)\n",
    "\n",
    "plt.subplot(2, 1, 1)\n",
    "plt.bar(pricey.index,pricey.meter_sale_price, width=0.25)\n",
    "plt.xticks(rotation=18, ha='right', fontweight='bold')\n",
    "plt.yticks(fontweight='bold')\n",
    "plt.xlabel(\"PROJECT\",fontweight='bold')\n",
    "plt.ylabel(\"AED per squarefeet\", fontweight='bold')\n",
    "plt.text(5.5,115000,\"Dubai's Highest Price per sqft Projects in 2023\", ha='center', fontsize=30)\n",
    "\n",
    "\n",
    "plt.subplot(2, 1, 2)\n",
    "plt.bar(pricey_sold.project_name_en,pricey_sold['unit sold'],  width=0.25)\n",
    "plt.xticks(rotation=18, ha='right', fontweight='bold')\n",
    "plt.yticks(fontweight='bold')\n",
    "plt.xlabel(\"PROJECT\",fontweight='bold')\n",
    "plt.ylabel(\"NUMBER OF UNITS SOLD\", fontweight='bold')\n",
    "plt.text(5.5,70,\"Popularity of the projects \", ha='center', fontsize=30)\n",
    "\n",
    "plt.savefig('test.png')"
   ]
  },
  {
   "cell_type": "code",
   "execution_count": null,
   "metadata": {},
   "outputs": [],
   "source": [
    "# Subset the hottest projects and areas\n",
    "most_sold_proj = df_2023.groupby(by='project_name_en').count().sort_values(by='meter_sale_price', ascending=False).head(15)\n",
    "most_sold_area = df_2023.groupby(by='area_name_en').count().sort_values(by='meter_sale_price', ascending=False).head(15)\n",
    "\n",
    "\n",
    "figure(figsize=(20, 10), dpi=80)\n",
    "plt.bar(most_sold_proj.index, most_sold_proj.procedure_name_en,  width=0.25)\n",
    "plt.xticks(rotation=18, ha='right', fontweight='bold')\n",
    "plt.yticks(fontweight='bold')\n",
    "plt.xlabel(\"Project\",fontweight='bold', fontsize=15)\n",
    "plt.ylabel(\"NUMBER OF UNITS SOLD\", fontweight='bold', fontsize=15)\n",
    "plt.text(6.5,750,\"Hottest Projects of 2023 \", ha='center', fontsize=30)\n"
   ]
  },
  {
   "cell_type": "code",
   "execution_count": null,
   "metadata": {},
   "outputs": [],
   "source": [
    "figure(figsize=(20, 10), dpi=80)\n",
    "plt.bar(most_sold_area.index, most_sold_area.procedure_name_en,  width=0.25)\n",
    "plt.xticks(rotation=18, ha='right', fontweight='bold')\n",
    "plt.yticks(fontweight='bold')\n",
    "plt.xlabel(\"AREA\",fontweight='bold', fontsize=15)\n",
    "plt.ylabel(\"NUMBER OF UNITS SOLD\", fontweight='bold', fontsize=15)\n",
    "plt.text(6.5,6000,\"Hottest areas in 2023 \", ha='center', fontsize=30)\n",
    "plt.text(7,2150,\"*Downtown area\", ha='center', fontsize=12)"
   ]
  },
  {
   "cell_type": "code",
   "execution_count": null,
   "metadata": {},
   "outputs": [],
   "source": [
    "# Cheapest areas and projects for further analysis\n",
    "affordable_area = df_2023.groupby(by='area_name_en').mean().sort_values(by='meter_sale_price', ascending=True).head(15)\n",
    "affordable_proj = df_2023.groupby(by='project_name_en').mean().sort_values(by='meter_sale_price', ascending=True).head(15)"
   ]
  },
  {
   "cell_type": "code",
   "execution_count": null,
   "metadata": {},
   "outputs": [],
   "source": [
    "# Subset the Downtown area and eliminate extreme cases \n",
    "dt = df[df.area_name_en=='Burj Khalifa']\n",
    "dt = dt[dt.meter_sale_price<60000]\n",
    "\n",
    "dt_volume = dt.groupby(by='instance_date').count()"
   ]
  },
  {
   "cell_type": "code",
   "execution_count": null,
   "metadata": {},
   "outputs": [],
   "source": [
    "#Remove single data doint from 2017 that deviated the graph\n",
    "dt_volume = dt_volume.iloc[1:,:]\n",
    "\n",
    "date =[]\n",
    "sales = []\n",
    "for i in range(dt_volume.shape[0]//10):\n",
    "    date.append(dt_volume.index[i*10])\n",
    "    temp=0\n",
    "    for j in range(10):\n",
    "        temp = temp + dt_volume.iloc[i*10+j,0]\n",
    "    sales.append(temp)"
   ]
  },
  {
   "cell_type": "code",
   "execution_count": null,
   "metadata": {},
   "outputs": [],
   "source": [
    "x_ = dt.groupby(by='instance_date').mean().index\n",
    "y_ = dt.groupby(by='instance_date').mean().meter_sale_price\n",
    "\n",
    "dt_volume = dt.groupby(by='instance_date').count()\n",
    "x_volume = dt_volume.groupby(by='instance_date').count().index\n",
    "y_volume = dt_volume.groupby(by='instance_date').count().meter_sale_price\n",
    "\n",
    "\n",
    "figure(figsize=(20, 20))\n",
    "\n",
    "plt.subplot(2, 1, 1)\n",
    "plt.scatter(x_,y_)\n",
    "\n",
    "plt.xlabel(\"DATE\",fontweight='bold')\n",
    "plt.ylabel(\"AED per squarefeet in downtown\", fontweight='bold')\n",
    "plt.title(\"DOWNTOWN PRICES HAVE CAUGHT 2014 LEVELS\", fontsize=25)\n",
    "\n",
    "\n",
    "plt.subplot(2, 1, 2)\n",
    "plt.scatter(date,sales)\n",
    "plt.xlabel(\"DATE\",fontweight='bold')\n",
    "plt.ylabel(\"NUMBER OF TRANSACTIONS - 10 DAYS MOVING AVERAGE\", fontweight='bold')\n",
    "plt.title(\"VOLUME OF TRANSACTIONS ARE BACK TO 2014 LEVELS IN DOWNTOWN\", fontsize=25)\n",
    "#plt.text(0,0,\"Market is as hot as 2014\", ha='center', fontsize=1)"
   ]
  },
  {
   "cell_type": "code",
   "execution_count": null,
   "metadata": {},
   "outputs": [],
   "source": [
    "# Most sold properties among the most expensive ones\n",
    "\n",
    "pricey_area = df_2023.groupby(by='area_name_en').mean().sort_values(by='meter_sale_price', ascending=False).head(15)\n",
    "\n",
    "pricey_sold = pd.DataFrame(columns = ['project_name_en', 'unit sold'])\n",
    "\n",
    "for i in pricey.index:\n",
    "    pricey_sold.loc[len(pricey_sold)] = [i,sum(df_2023.project_name_en==i)]\n",
    "    \n",
    "for proj in pricey_sold.project_name_en:\n",
    "    if int(pricey_sold[pricey_sold.project_name_en==proj]['unit sold'])<3:\n",
    "        pricey = pricey[pricey.index != proj]\n",
    "        \n",
    "pricey_sold = pricey_sold[pricey_sold['unit sold']>=3]"
   ]
  },
  {
   "cell_type": "code",
   "execution_count": null,
   "metadata": {},
   "outputs": [],
   "source": [
    "df_2223 = df[df.instance_date>'2022-01-01']"
   ]
  },
  {
   "cell_type": "code",
   "execution_count": null,
   "metadata": {},
   "outputs": [],
   "source": [
    "# Re-group units and villas to include only from 2022\n",
    "unit = df[(df.property_type_en=='Unit')][df.instance_date>'2022-01-01']\n",
    "villa = df[df.property_type_en=='Villa'][df.instance_date>'2022-01-01']"
   ]
  },
  {
   "cell_type": "code",
   "execution_count": null,
   "metadata": {},
   "outputs": [],
   "source": [
    "# Date manipulation\n",
    "import matplotlib.dates as dates\n",
    "unit_num = dates.date2num(unit.groupby(by='instance_date').mean().index)\n",
    "villa_num = dates.date2num(villa.groupby(by='instance_date').mean().index)"
   ]
  },
  {
   "cell_type": "code",
   "execution_count": null,
   "metadata": {},
   "outputs": [],
   "source": [
    "figure(figsize=(20, 10))\n",
    "import numpy as np\n",
    "import matplotlib.dates as dates\n",
    "\n",
    "a_unit=dates.date2num(unit.groupby(by='instance_date').mean().index)\n",
    "b_unit= unit.groupby(by='instance_date').mean()['meter_sale_price']\n",
    "\n",
    "a_villa=dates.date2num(villa.groupby(by='instance_date').mean().index)\n",
    "b_villa= villa.groupby(by='instance_date').mean()['meter_sale_price']\n",
    "\n",
    "\n",
    "\n",
    "\n",
    "z_unit = np.polyfit(a_unit, b_unit, 1)\n",
    "p_unit = np.poly1d(z_unit)\n",
    "plt.scatter(a_unit,b_unit)\n",
    "plt.plot(a_unit,p_unit(a_unit),\"bo--\")\n",
    "\n",
    "\n",
    "z_villa = np.polyfit(a_villa, b_villa, 1)\n",
    "p_villa = np.poly1d(z_villa)\n",
    "plt.scatter(a_villa,b_villa)\n",
    "plt.plot(a_villa,p_villa(a_villa),color='orange', marker='o', linestyle='dashed')\n",
    "\n",
    "plt.xticks([738200,738300,738400,738500,738600,738700,738800, 738840], ['Jan 2022','Mar 2022','June 2022','Sept 2022', 'Dec 2022', 'Mar 2023', 'June 2023', 'July 2023'])\n",
    "plt.xlabel(\"DATE\",fontweight='bold')\n",
    "plt.ylabel(\"AED per squarefeet in Dubai\", fontweight='bold')\n",
    "\n",
    "plt.text(738500,24500,\"Villas can be better investments than Units\", ha='center', fontsize=25)\n",
    "\n",
    "#plt.axvline(x=738150, ymin=8000, ymax=16100)\n",
    "\n",
    "plt.axvline(x=738150, ymax=0.52, ymin=0.125, color='black')\n",
    "plt.axvline(x=738870, ymax=0.65, ymin=0.32, color='black')\n",
    "plt.legend(['UNITS', 'VILLAS'])\n",
    "\n",
    "\n",
    "\n",
    "plt.savefig('villa_unit.png')"
   ]
  }
 ],
 "metadata": {
  "kernelspec": {
   "display_name": "Python 3",
   "language": "python",
   "name": "python3"
  },
  "language_info": {
   "codemirror_mode": {
    "name": "ipython",
    "version": 3
   },
   "file_extension": ".py",
   "mimetype": "text/x-python",
   "name": "python",
   "nbconvert_exporter": "python",
   "pygments_lexer": "ipython3",
   "version": "3.7.4"
  }
 },
 "nbformat": 4,
 "nbformat_minor": 2
}
